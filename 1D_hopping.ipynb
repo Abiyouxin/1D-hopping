{
 "cells": [
  {
   "cell_type": "code",
   "execution_count": 118,
   "metadata": {},
   "outputs": [],
   "source": [
    "import numpy as np\n",
    "import random\n",
    "import matplotlib.pyplot as plt"
   ]
  },
  {
   "cell_type": "code",
   "execution_count": 124,
   "metadata": {},
   "outputs": [],
   "source": [
    "# position index for N sites\n",
    "N = 100\n",
    "pos = list(range(1, N+1))"
   ]
  },
  {
   "cell_type": "code",
   "execution_count": 125,
   "metadata": {},
   "outputs": [],
   "source": [
    "s = 1000\n",
    "no_of_runs = s\n",
    "\n",
    "# Compute kT in eV\n",
    "T = 300\n",
    "kB = 8.617332e-5\n",
    "kT = kB * T"
   ]
  },
  {
   "cell_type": "code",
   "execution_count": 132,
   "metadata": {},
   "outputs": [
    {
     "data": {
      "text/plain": [
       "[<matplotlib.lines.Line2D at 0x21ccb1e9860>]"
      ]
     },
     "execution_count": 132,
     "metadata": {},
     "output_type": "execute_result"
    },
    {
     "data": {
      "image/png": "[encoded data removed]",
      "text/plain": [
       "<Figure size 432x288 with 1 Axes>"
      ]
     },
     "metadata": {
      "needs_background": "light"
     },
     "output_type": "display_data"
    }
   ],
   "source": [
    "# atom position\n",
    "atom_pos = random.choice(pos)\n",
    "# track atom position \n",
    "point = [atom_pos]\n",
    "\n",
    "# hopping for i number of runs\n",
    "for i in range(1, s):\n",
    "    # Energy at each position\n",
    "    E = []\n",
    "    for i in range(1, N+1):\n",
    "        value = random.uniform(-1.0,1.0)\n",
    "        E.append(value)\n",
    "        \n",
    "    # movement of atom\n",
    "    r = atom_pos + 1\n",
    "    l = atom_pos - 1  \n",
    "    \n",
    "    # setting boundaries\n",
    "    if l < 1 or r > N:\n",
    "        break\n",
    "            \n",
    "    # energy difference between inital and final position\n",
    "    dE1 = E[r-1]-E[atom_pos-1] #right \n",
    "    dE2 = E[l-1]-E[atom_pos-1] #left\n",
    "    # deciding whether hop is valid\n",
    "    if dE1 > 0 and dE2 > 0:\n",
    "        v1 = np.exp(-dE1/kT)\n",
    "        v2 = np.exp(-dE2/kT)\n",
    "        if v1 > v2:\n",
    "            atom_pos = r\n",
    "            point.append(atom_pos)\n",
    "        else:\n",
    "            atom_pos = l\n",
    "            point.append(atom_pos)  \n",
    "    elif dE1 < dE2:\n",
    "        atom_pos = r\n",
    "        point.append(atom_pos)        \n",
    "    else:\n",
    "        atom_pos = l\n",
    "        point.append(atom_pos)\n",
    "# track atom   \n",
    "plt.plot(point)\n"
   ]
  },
  {
   "cell_type": "code",
   "execution_count": null,
   "metadata": {},
   "outputs": [],
   "source": []
  }
 ],
 "metadata": {
  "kernelspec": {
   "display_name": "Python 3",
   "language": "python",
   "name": "python3"
  },
  "language_info": {
   "codemirror_mode": {
    "name": "ipython",
    "version": 3
   },
   "file_extension": ".py",
   "mimetype": "text/x-python",
   "name": "python",
   "nbconvert_exporter": "python",
   "pygments_lexer": "ipython3",
   "version": "3.7.0"
  }
 },
 "nbformat": 4,
 "nbformat_minor": 2
}
